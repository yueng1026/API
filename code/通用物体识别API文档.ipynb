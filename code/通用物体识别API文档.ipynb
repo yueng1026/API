{
 "cells": [
  {
   "cell_type": "code",
   "execution_count": 2,
   "metadata": {},
   "outputs": [
    {
     "name": "stdout",
     "output_type": "stream",
     "text": [
      "{'refresh_token': '25.f5d16466afed1bd0a433db3995ff5609.315360000.1891998301.282335-18052431', 'expires_in': 2592000, 'session_key': '9mzdWr///zarEgWkCnmRqrpe96XpgamuI+3IwtyflxDxP7raF3kLPoMkJujH12EPsdxWLpF+L8Rd4SfXvi+N6UcvBkpi1Q==', 'access_token': '24.ac826390b9894b03d2df22c4452cc3fa.2592000.1579230301.282335-18052431', 'scope': 'public vis-classify_dishes vis-classify_car brain_all_scope vis-classify_animal vis-classify_plant brain_object_detect brain_realtime_logo brain_dish_detect brain_car_detect brain_animal_classify brain_plant_classify brain_ingredient brain_advanced_general_classify brain_custom_dish brain_poi_recognize brain_vehicle_detect brain_redwine brain_currency brain_vehicle_damage wise_adapt lebo_resource_base lightservice_public hetu_basic lightcms_map_poi kaidian_kaidian ApsMisTest_Test权限 vis-classify_flower lpq_开放 cop_helloScope ApsMis_fangdi_permission smartapp_snsapi_base iop_autocar oauth_tp_app smartapp_smart_game_openapi oauth_sessionkey smartapp_swanid_verify smartapp_opensource_openapi smartapp_opensource_recapi fake_face_detect_开放Scope vis-ocr_虚拟人物助理 idl-video_虚拟人物助理', 'session_secret': '75310785e688b63d185d654771ec727a'}\n"
     ]
    }
   ],
   "source": [
    "import requests \n",
    "\n",
    "# client_id 为官网获取的AK， client_secret 为官网获取的SK\n",
    "host = 'https://aip.baidubce.com/oauth/2.0/token?grant_type=client_credentials&client_id=WDPPMB2IvxKoAHKXLy51WBKp&client_secret=OCTIT4SmsO8CE6gInjtkGuruBd6mzzV3'\n",
    "response = requests.get(host)\n",
    "if response:\n",
    "    print(response.json())"
   ]
  },
  {
   "cell_type": "code",
   "execution_count": 54,
   "metadata": {},
   "outputs": [
    {
     "name": "stdout",
     "output_type": "stream",
     "text": [
      "{'log_id': 441619564006722482, 'result_num': 5, 'result': [{'score': 0.945791, 'root': '植物-芭蕉科', 'keyword': '香蕉'}, {'score': 0.573735, 'root': '商品-玩具', 'keyword': '玩具'}, {'score': 0.38272, 'root': '商品-农用物资', 'keyword': '花卉'}, {'score': 0.191679, 'root': '商品-水果', 'keyword': '芒果'}, {'score': 0.000634, 'root': '商品-工艺品', 'keyword': '工艺品'}]}\n"
     ]
    }
   ],
   "source": [
    "import requests\n",
    "import base64\n",
    "\n",
    "'''\n",
    "通用物体和场景识别\n",
    "'''\n",
    "\n",
    "request_url = \"https://aip.baidubce.com/rest/2.0/image-classify/v2/advanced_general\"\n",
    "# 二进制方式打开图片文件\n",
    "f = open('b.jpg', 'rb')\n",
    "img = base64.b64encode(f.read())\n",
    "params = {\"image\":img}\n",
    "access_token = '[24.ac826390b9894b03d2df22c4452cc3fa.2592000.1579230301.282335-18052431]'\n",
    "request_url = request_url + \"?access_token=\" + access_token \n",
    "headers = {'content-type': 'application/x-www-form-urlencoded'}\n",
    "response = requests.post(request_url, data=params, headers=headers)\n",
    "if response:\n",
    "    print (response.json())"
   ]
  },
  {
   "cell_type": "code",
   "execution_count": 82,
   "metadata": {},
   "outputs": [
    {
     "name": "stdout",
     "output_type": "stream",
     "text": [
      "中文: 香蕉\n"
     ]
    }
   ],
   "source": [
    "result=response.json().pop('result').pop(0).pop('keyword')\n",
    "print('中文:',result)"
   ]
  },
  {
   "cell_type": "code",
   "execution_count": null,
   "metadata": {},
   "outputs": [],
   "source": []
  },
  {
   "cell_type": "code",
   "execution_count": null,
   "metadata": {},
   "outputs": [],
   "source": []
  },
  {
   "cell_type": "code",
   "execution_count": null,
   "metadata": {},
   "outputs": [],
   "source": []
  },
  {
   "cell_type": "code",
   "execution_count": null,
   "metadata": {},
   "outputs": [],
   "source": []
  }
 ],
 "metadata": {
  "kernelspec": {
   "display_name": "Python 3",
   "language": "python",
   "name": "python3"
  },
  "language_info": {
   "codemirror_mode": {
    "name": "ipython",
    "version": 3
   },
   "file_extension": ".py",
   "mimetype": "text/x-python",
   "name": "python",
   "nbconvert_exporter": "python",
   "pygments_lexer": "ipython3",
   "version": "3.7.0"
  }
 },
 "nbformat": 4,
 "nbformat_minor": 2
}
