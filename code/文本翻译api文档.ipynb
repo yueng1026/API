{
 "cells": [
  {
   "cell_type": "code",
   "execution_count": 6,
   "metadata": {},
   "outputs": [
    {
     "name": "stdout",
     "output_type": "stream",
     "text": [
      "b'{\"tSpeakUrl\":\"http://openapi.youdao.com/ttsapi?q=banana&langType=en&sign=FDD1ECE09741AE7697C54FD92E8CD724&salt=1577191553379&voice=4&format=mp3&appKey=34bd104117a3f630\",\"returnPhrase\":[\"\\xe9\\xa6\\x99\\xe8\\x95\\x89\"],\"web\":[{\"value\":[\"Banana\",\"Musa\",\"pisang\",\"die Banane\"],\"key\":\"\\xe9\\xa6\\x99\\xe8\\x95\\x89\"},{\"value\":[\"Banana Split\",\"Banana Boat\",\"Banana Boat riding\",\"banana ship\"],\"key\":\"\\xe9\\xa6\\x99\\xe8\\x95\\x89\\xe8\\x88\\xb9\"},{\"value\":[\"banana cream\"],\"key\":\"\\xe9\\xa6\\x99\\xe8\\x95\\x89\\xe9\\xbb\\x84\"}],\"query\":\"\\xe9\\xa6\\x99\\xe8\\x95\\x89\",\"translation\":[\"banana\"],\"errorCode\":\"0\",\"dict\":{\"url\":\"yddict://m.youdao.com/dict?le=eng&q=%E9%A6%99%E8%95%89\"},\"webdict\":{\"url\":\"http://m.youdao.com/dict?le=eng&q=%E9%A6%99%E8%95%89\"},\"basic\":{\"phonetic\":\"xi\\xc4\\x81ng ji\\xc4\\x81o\",\"explains\":[\"[\\xe5\\x9b\\xad\\xe8\\x89\\xba] banana\"]},\"l\":\"zh-CHS2en\",\"speakUrl\":\"http://openapi.youdao.com/ttsapi?q=%E9%A6%99%E8%95%89&langType=zh-CHS&sign=8AC751A34AAFA73805C2561B0D8F8FF6&salt=1577191553379&voice=4&format=mp3&appKey=34bd104117a3f630\"}'\n"
     ]
    }
   ],
   "source": [
    "import sys\n",
    "import uuid\n",
    "import requests\n",
    "import hashlib\n",
    "import time\n",
    "from imp import reload\n",
    "\n",
    "import time\n",
    "\n",
    "reload(sys)\n",
    "\n",
    "YOUDAO_URL = 'https://openapi.youdao.com/api'\n",
    "APP_KEY = '34bd104117a3f630'\n",
    "APP_SECRET = 'ApFqQq69KnkK4oWYMps82mwii6KY8710'\n",
    "\n",
    "\n",
    "def encrypt(signStr):\n",
    "    hash_algorithm = hashlib.sha256()\n",
    "    hash_algorithm.update(signStr.encode('utf-8'))\n",
    "    return hash_algorithm.hexdigest()\n",
    "\n",
    "\n",
    "def truncate(q):\n",
    "    if q is None:\n",
    "        return None\n",
    "    size = len(q)\n",
    "    return q if size <= 20 else q[0:10] + str(size) + q[size - 10:size]\n",
    "\n",
    "\n",
    "def do_request(data):\n",
    "    headers = {'Content-Type': 'application/x-www-form-urlencoded'}\n",
    "    return requests.post(YOUDAO_URL, data=data, headers=headers)\n",
    "\n",
    "\n",
    "def connect():\n",
    "    q = \"香蕉\"\n",
    "\n",
    "    data = {}\n",
    "    data['from'] = '源语言'\n",
    "    data['to'] = '目标语言'\n",
    "    data['signType'] = 'v3'\n",
    "    curtime = str(int(time.time()))\n",
    "    data['curtime'] = curtime\n",
    "    salt = str(uuid.uuid1())\n",
    "    signStr = APP_KEY + truncate(q) + salt + curtime + APP_SECRET\n",
    "    sign = encrypt(signStr)\n",
    "    data['appKey'] = APP_KEY\n",
    "    data['q'] = q\n",
    "    data['salt'] = salt\n",
    "    data['sign'] = sign\n",
    "\n",
    "    response = do_request(data)\n",
    "    contentType = response.headers['Content-Type']\n",
    "    if contentType == \"audio/mp3\":\n",
    "        millis = int(round(time.time() * 1000))\n",
    "        filePath = \"合成的音频存储路径\" + str(millis) + \".mp3\"\n",
    "        fo = open(filePath, 'wb')\n",
    "        fo.write(response.content)\n",
    "        fo.close()\n",
    "    else:\n",
    "        print(response.content)\n",
    "\n",
    "\n",
    "if __name__ == '__main__':\n",
    "    connect()"
   ]
  },
  {
   "cell_type": "code",
   "execution_count": null,
   "metadata": {},
   "outputs": [],
   "source": []
  }
 ],
 "metadata": {
  "kernelspec": {
   "display_name": "Python 3",
   "language": "python",
   "name": "python3"
  },
  "language_info": {
   "codemirror_mode": {
    "name": "ipython",
    "version": 3
   },
   "file_extension": ".py",
   "mimetype": "text/x-python",
   "name": "python",
   "nbconvert_exporter": "python",
   "pygments_lexer": "ipython3",
   "version": "3.7.0"
  }
 },
 "nbformat": 4,
 "nbformat_minor": 2
}
